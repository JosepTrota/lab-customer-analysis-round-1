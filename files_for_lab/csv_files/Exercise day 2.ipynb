{
 "cells": [
  {
   "cell_type": "code",
   "execution_count": 1,
   "id": "9337f53c",
   "metadata": {},
   "outputs": [],
   "source": [
    "import numpy as np\n",
    "import pandas as pd\n",
    "file1=pd.read_csv('file1.csv')\n",
    "file2=pd.read_csv('file2.csv')\n",
    "file3=pd.read_csv('file3.csv')"
   ]
  },
  {
   "cell_type": "code",
   "execution_count": 2,
   "id": "b9e547e8",
   "metadata": {},
   "outputs": [
    {
     "name": "stdout",
     "output_type": "stream",
     "text": [
      "<class 'pandas.core.frame.DataFrame'>\n",
      "RangeIndex: 4008 entries, 0 to 4007\n",
      "Data columns (total 11 columns):\n",
      " #   Column                     Non-Null Count  Dtype  \n",
      "---  ------                     --------------  -----  \n",
      " 0   Customer                   1071 non-null   object \n",
      " 1   ST                         1071 non-null   object \n",
      " 2   GENDER                     954 non-null    object \n",
      " 3   Education                  1071 non-null   object \n",
      " 4   Customer Lifetime Value    1068 non-null   object \n",
      " 5   Income                     1071 non-null   float64\n",
      " 6   Monthly Premium Auto       1071 non-null   float64\n",
      " 7   Number of Open Complaints  1071 non-null   object \n",
      " 8   Policy Type                1071 non-null   object \n",
      " 9   Vehicle Class              1071 non-null   object \n",
      " 10  Total Claim Amount         1071 non-null   float64\n",
      "dtypes: float64(3), object(8)\n",
      "memory usage: 344.6+ KB\n"
     ]
    }
   ],
   "source": [
    "file1.info()"
   ]
  },
  {
   "cell_type": "code",
   "execution_count": 3,
   "id": "2e63f47e",
   "metadata": {},
   "outputs": [
    {
     "data": {
      "text/plain": [
       "(4008, 11)"
      ]
     },
     "execution_count": 3,
     "metadata": {},
     "output_type": "execute_result"
    }
   ],
   "source": [
    "file1.shape"
   ]
  },
  {
   "cell_type": "code",
   "execution_count": 4,
   "id": "428bae9e",
   "metadata": {},
   "outputs": [
    {
     "name": "stdout",
     "output_type": "stream",
     "text": [
      "<class 'pandas.core.frame.DataFrame'>\n",
      "RangeIndex: 996 entries, 0 to 995\n",
      "Data columns (total 11 columns):\n",
      " #   Column                     Non-Null Count  Dtype  \n",
      "---  ------                     --------------  -----  \n",
      " 0   Customer                   996 non-null    object \n",
      " 1   ST                         996 non-null    object \n",
      " 2   GENDER                     991 non-null    object \n",
      " 3   Education                  996 non-null    object \n",
      " 4   Customer Lifetime Value    992 non-null    object \n",
      " 5   Income                     996 non-null    int64  \n",
      " 6   Monthly Premium Auto       996 non-null    int64  \n",
      " 7   Number of Open Complaints  996 non-null    object \n",
      " 8   Total Claim Amount         996 non-null    float64\n",
      " 9   Policy Type                996 non-null    object \n",
      " 10  Vehicle Class              996 non-null    object \n",
      "dtypes: float64(1), int64(2), object(8)\n",
      "memory usage: 85.7+ KB\n"
     ]
    }
   ],
   "source": [
    "file2.info()"
   ]
  },
  {
   "cell_type": "code",
   "execution_count": 5,
   "id": "02506c41",
   "metadata": {},
   "outputs": [
    {
     "data": {
      "text/plain": [
       "(996, 11)"
      ]
     },
     "execution_count": 5,
     "metadata": {},
     "output_type": "execute_result"
    }
   ],
   "source": [
    "file2.shape"
   ]
  },
  {
   "cell_type": "code",
   "execution_count": 6,
   "id": "e2254921",
   "metadata": {},
   "outputs": [
    {
     "name": "stdout",
     "output_type": "stream",
     "text": [
      "<class 'pandas.core.frame.DataFrame'>\n",
      "RangeIndex: 7070 entries, 0 to 7069\n",
      "Data columns (total 11 columns):\n",
      " #   Column                     Non-Null Count  Dtype  \n",
      "---  ------                     --------------  -----  \n",
      " 0   Customer                   7070 non-null   object \n",
      " 1   State                      7070 non-null   object \n",
      " 2   Customer Lifetime Value    7070 non-null   float64\n",
      " 3   Education                  7070 non-null   object \n",
      " 4   Gender                     7070 non-null   object \n",
      " 5   Income                     7070 non-null   int64  \n",
      " 6   Monthly Premium Auto       7070 non-null   int64  \n",
      " 7   Number of Open Complaints  7070 non-null   int64  \n",
      " 8   Policy Type                7070 non-null   object \n",
      " 9   Total Claim Amount         7070 non-null   float64\n",
      " 10  Vehicle Class              7070 non-null   object \n",
      "dtypes: float64(2), int64(3), object(6)\n",
      "memory usage: 607.7+ KB\n"
     ]
    }
   ],
   "source": [
    "file3.info()"
   ]
  },
  {
   "cell_type": "code",
   "execution_count": 7,
   "id": "60b7562b",
   "metadata": {},
   "outputs": [
    {
     "data": {
      "text/plain": [
       "(7070, 11)"
      ]
     },
     "execution_count": 7,
     "metadata": {},
     "output_type": "execute_result"
    }
   ],
   "source": [
    "file3.shape"
   ]
  },
  {
   "cell_type": "code",
   "execution_count": 8,
   "id": "d35a8c29",
   "metadata": {},
   "outputs": [
    {
     "data": {
      "text/plain": [
       "Index(['Customer', 'ST', 'GENDER', 'Education', 'Customer Lifetime Value',\n",
       "       'Income', 'Monthly Premium Auto', 'Number of Open Complaints',\n",
       "       'Policy Type', 'Vehicle Class', 'Total Claim Amount'],\n",
       "      dtype='object')"
      ]
     },
     "execution_count": 8,
     "metadata": {},
     "output_type": "execute_result"
    }
   ],
   "source": [
    "file1.columns"
   ]
  },
  {
   "cell_type": "code",
   "execution_count": 9,
   "id": "4db7e420",
   "metadata": {},
   "outputs": [
    {
     "data": {
      "text/plain": [
       "Index(['Customer', 'ST', 'GENDER', 'Education', 'Customer Lifetime Value',\n",
       "       'Income', 'Monthly Premium Auto', 'Number of Open Complaints',\n",
       "       'Total Claim Amount', 'Policy Type', 'Vehicle Class'],\n",
       "      dtype='object')"
      ]
     },
     "execution_count": 9,
     "metadata": {},
     "output_type": "execute_result"
    }
   ],
   "source": [
    "file2.columns"
   ]
  },
  {
   "cell_type": "code",
   "execution_count": 10,
   "id": "975cb9d9",
   "metadata": {},
   "outputs": [
    {
     "data": {
      "text/plain": [
       "Index(['Customer', 'State', 'Customer Lifetime Value', 'Education', 'Gender',\n",
       "       'Income', 'Monthly Premium Auto', 'Number of Open Complaints',\n",
       "       'Policy Type', 'Total Claim Amount', 'Vehicle Class'],\n",
       "      dtype='object')"
      ]
     },
     "execution_count": 10,
     "metadata": {},
     "output_type": "execute_result"
    }
   ],
   "source": [
    "file3.columns"
   ]
  },
  {
   "cell_type": "code",
   "execution_count": 11,
   "id": "1a18768f",
   "metadata": {},
   "outputs": [],
   "source": [
    "# Variable headers to standarize: convert ST and GENDER into State, Gender. Only for files 1 and 2.\n",
    "\n",
    "cols1 = []\n",
    "for i in range(len(file1.columns)):\n",
    "    if file1.columns[i] == 'ST':\n",
    "        cols1.append('State')\n",
    "    elif file1.columns[i] == 'GENDER':\n",
    "        cols1.append('Gender')\n",
    "    else:\n",
    "         cols1.append(file1.columns[i])\n",
    "            \n",
    "file1.columns=cols1\n",
    "\n",
    "cols2 = []\n",
    "for i in range(len(file2.columns)):\n",
    "    if file2.columns[i] == 'ST':\n",
    "        cols2.append('State')\n",
    "    elif file2.columns[i] == 'GENDER':\n",
    "        cols2.append('Gender')\n",
    "    else:\n",
    "         cols2.append(file2.columns[i])\n",
    "            \n",
    "file2.columns=cols2"
   ]
  },
  {
   "cell_type": "code",
   "execution_count": 12,
   "id": "61bd79c6",
   "metadata": {},
   "outputs": [
    {
     "name": "stdout",
     "output_type": "stream",
     "text": [
      "<class 'pandas.core.frame.DataFrame'>\n",
      "RangeIndex: 4008 entries, 0 to 4007\n",
      "Data columns (total 11 columns):\n",
      " #   Column                     Non-Null Count  Dtype  \n",
      "---  ------                     --------------  -----  \n",
      " 0   Customer                   1071 non-null   object \n",
      " 1   State                      1071 non-null   object \n",
      " 2   Gender                     954 non-null    object \n",
      " 3   Education                  1071 non-null   object \n",
      " 4   Customer Lifetime Value    1068 non-null   object \n",
      " 5   Income                     1071 non-null   float64\n",
      " 6   Monthly Premium Auto       1071 non-null   float64\n",
      " 7   Number of Open Complaints  1071 non-null   object \n",
      " 8   Policy Type                1071 non-null   object \n",
      " 9   Vehicle Class              1071 non-null   object \n",
      " 10  Total Claim Amount         1071 non-null   float64\n",
      "dtypes: float64(3), object(8)\n",
      "memory usage: 344.6+ KB\n"
     ]
    }
   ],
   "source": [
    "file1.info()"
   ]
  },
  {
   "cell_type": "code",
   "execution_count": 13,
   "id": "ffe17823",
   "metadata": {},
   "outputs": [
    {
     "name": "stdout",
     "output_type": "stream",
     "text": [
      "<class 'pandas.core.frame.DataFrame'>\n",
      "RangeIndex: 996 entries, 0 to 995\n",
      "Data columns (total 11 columns):\n",
      " #   Column                     Non-Null Count  Dtype  \n",
      "---  ------                     --------------  -----  \n",
      " 0   Customer                   996 non-null    object \n",
      " 1   State                      996 non-null    object \n",
      " 2   Gender                     991 non-null    object \n",
      " 3   Education                  996 non-null    object \n",
      " 4   Customer Lifetime Value    992 non-null    object \n",
      " 5   Income                     996 non-null    int64  \n",
      " 6   Monthly Premium Auto       996 non-null    int64  \n",
      " 7   Number of Open Complaints  996 non-null    object \n",
      " 8   Total Claim Amount         996 non-null    float64\n",
      " 9   Policy Type                996 non-null    object \n",
      " 10  Vehicle Class              996 non-null    object \n",
      "dtypes: float64(1), int64(2), object(8)\n",
      "memory usage: 85.7+ KB\n"
     ]
    }
   ],
   "source": [
    "file2.info()"
   ]
  },
  {
   "cell_type": "code",
   "execution_count": 14,
   "id": "d16d2eea",
   "metadata": {},
   "outputs": [],
   "source": [
    "# Now we can concatenate the files and they will order themselves\n",
    "data = pd.concat([file1, file2, file3])"
   ]
  },
  {
   "cell_type": "code",
   "execution_count": 15,
   "id": "4697696f",
   "metadata": {},
   "outputs": [
    {
     "name": "stdout",
     "output_type": "stream",
     "text": [
      "<class 'pandas.core.frame.DataFrame'>\n",
      "Int64Index: 12074 entries, 0 to 7069\n",
      "Data columns (total 11 columns):\n",
      " #   Column                     Non-Null Count  Dtype  \n",
      "---  ------                     --------------  -----  \n",
      " 0   Customer                   9137 non-null   object \n",
      " 1   State                      9137 non-null   object \n",
      " 2   Gender                     9015 non-null   object \n",
      " 3   Education                  9137 non-null   object \n",
      " 4   Customer Lifetime Value    9130 non-null   object \n",
      " 5   Income                     9137 non-null   float64\n",
      " 6   Monthly Premium Auto       9137 non-null   float64\n",
      " 7   Number of Open Complaints  9137 non-null   object \n",
      " 8   Policy Type                9137 non-null   object \n",
      " 9   Vehicle Class              9137 non-null   object \n",
      " 10  Total Claim Amount         9137 non-null   float64\n",
      "dtypes: float64(3), object(8)\n",
      "memory usage: 1.1+ MB\n"
     ]
    }
   ],
   "source": [
    "data.info()"
   ]
  },
  {
   "cell_type": "code",
   "execution_count": 16,
   "id": "1346b644",
   "metadata": {},
   "outputs": [],
   "source": [
    "data.reset_index(drop=True, inplace=True)"
   ]
  },
  {
   "cell_type": "code",
   "execution_count": 17,
   "id": "edfd59cc",
   "metadata": {},
   "outputs": [
    {
     "name": "stdout",
     "output_type": "stream",
     "text": [
      "<class 'pandas.core.frame.DataFrame'>\n",
      "RangeIndex: 12074 entries, 0 to 12073\n",
      "Data columns (total 11 columns):\n",
      " #   Column                     Non-Null Count  Dtype  \n",
      "---  ------                     --------------  -----  \n",
      " 0   Customer                   9137 non-null   object \n",
      " 1   State                      9137 non-null   object \n",
      " 2   Gender                     9015 non-null   object \n",
      " 3   Education                  9137 non-null   object \n",
      " 4   Customer Lifetime Value    9130 non-null   object \n",
      " 5   Income                     9137 non-null   float64\n",
      " 6   Monthly Premium Auto       9137 non-null   float64\n",
      " 7   Number of Open Complaints  9137 non-null   object \n",
      " 8   Policy Type                9137 non-null   object \n",
      " 9   Vehicle Class              9137 non-null   object \n",
      " 10  Total Claim Amount         9137 non-null   float64\n",
      "dtypes: float64(3), object(8)\n",
      "memory usage: 1.0+ MB\n"
     ]
    }
   ],
   "source": [
    "data.info()"
   ]
  },
  {
   "cell_type": "code",
   "execution_count": 18,
   "id": "951977b0",
   "metadata": {},
   "outputs": [
    {
     "data": {
      "text/html": [
       "<div>\n",
       "<style scoped>\n",
       "    .dataframe tbody tr th:only-of-type {\n",
       "        vertical-align: middle;\n",
       "    }\n",
       "\n",
       "    .dataframe tbody tr th {\n",
       "        vertical-align: top;\n",
       "    }\n",
       "\n",
       "    .dataframe thead th {\n",
       "        text-align: right;\n",
       "    }\n",
       "</style>\n",
       "<table border=\"1\" class=\"dataframe\">\n",
       "  <thead>\n",
       "    <tr style=\"text-align: right;\">\n",
       "      <th></th>\n",
       "      <th>Customer</th>\n",
       "      <th>State</th>\n",
       "      <th>Gender</th>\n",
       "      <th>Education</th>\n",
       "      <th>Customer Lifetime Value</th>\n",
       "      <th>Income</th>\n",
       "      <th>Monthly Premium Auto</th>\n",
       "      <th>Number of Open Complaints</th>\n",
       "      <th>Policy Type</th>\n",
       "      <th>Vehicle Class</th>\n",
       "      <th>Total Claim Amount</th>\n",
       "    </tr>\n",
       "  </thead>\n",
       "  <tbody>\n",
       "    <tr>\n",
       "      <th>12069</th>\n",
       "      <td>LA72316</td>\n",
       "      <td>California</td>\n",
       "      <td>M</td>\n",
       "      <td>Bachelor</td>\n",
       "      <td>23405.98798</td>\n",
       "      <td>71941.0</td>\n",
       "      <td>73.0</td>\n",
       "      <td>0</td>\n",
       "      <td>Personal Auto</td>\n",
       "      <td>Four-Door Car</td>\n",
       "      <td>198.234764</td>\n",
       "    </tr>\n",
       "    <tr>\n",
       "      <th>12070</th>\n",
       "      <td>PK87824</td>\n",
       "      <td>California</td>\n",
       "      <td>F</td>\n",
       "      <td>College</td>\n",
       "      <td>3096.511217</td>\n",
       "      <td>21604.0</td>\n",
       "      <td>79.0</td>\n",
       "      <td>0</td>\n",
       "      <td>Corporate Auto</td>\n",
       "      <td>Four-Door Car</td>\n",
       "      <td>379.200000</td>\n",
       "    </tr>\n",
       "    <tr>\n",
       "      <th>12071</th>\n",
       "      <td>TD14365</td>\n",
       "      <td>California</td>\n",
       "      <td>M</td>\n",
       "      <td>Bachelor</td>\n",
       "      <td>8163.890428</td>\n",
       "      <td>0.0</td>\n",
       "      <td>85.0</td>\n",
       "      <td>3</td>\n",
       "      <td>Corporate Auto</td>\n",
       "      <td>Four-Door Car</td>\n",
       "      <td>790.784983</td>\n",
       "    </tr>\n",
       "    <tr>\n",
       "      <th>12072</th>\n",
       "      <td>UP19263</td>\n",
       "      <td>California</td>\n",
       "      <td>M</td>\n",
       "      <td>College</td>\n",
       "      <td>7524.442436</td>\n",
       "      <td>21941.0</td>\n",
       "      <td>96.0</td>\n",
       "      <td>0</td>\n",
       "      <td>Personal Auto</td>\n",
       "      <td>Four-Door Car</td>\n",
       "      <td>691.200000</td>\n",
       "    </tr>\n",
       "    <tr>\n",
       "      <th>12073</th>\n",
       "      <td>Y167826</td>\n",
       "      <td>California</td>\n",
       "      <td>M</td>\n",
       "      <td>College</td>\n",
       "      <td>2611.836866</td>\n",
       "      <td>0.0</td>\n",
       "      <td>77.0</td>\n",
       "      <td>0</td>\n",
       "      <td>Corporate Auto</td>\n",
       "      <td>Two-Door Car</td>\n",
       "      <td>369.600000</td>\n",
       "    </tr>\n",
       "  </tbody>\n",
       "</table>\n",
       "</div>"
      ],
      "text/plain": [
       "      Customer       State Gender Education Customer Lifetime Value   Income  \\\n",
       "12069  LA72316  California      M  Bachelor             23405.98798  71941.0   \n",
       "12070  PK87824  California      F   College             3096.511217  21604.0   \n",
       "12071  TD14365  California      M  Bachelor             8163.890428      0.0   \n",
       "12072  UP19263  California      M   College             7524.442436  21941.0   \n",
       "12073  Y167826  California      M   College             2611.836866      0.0   \n",
       "\n",
       "       Monthly Premium Auto Number of Open Complaints     Policy Type  \\\n",
       "12069                  73.0                         0   Personal Auto   \n",
       "12070                  79.0                         0  Corporate Auto   \n",
       "12071                  85.0                         3  Corporate Auto   \n",
       "12072                  96.0                         0   Personal Auto   \n",
       "12073                  77.0                         0  Corporate Auto   \n",
       "\n",
       "       Vehicle Class  Total Claim Amount  \n",
       "12069  Four-Door Car          198.234764  \n",
       "12070  Four-Door Car          379.200000  \n",
       "12071  Four-Door Car          790.784983  \n",
       "12072  Four-Door Car          691.200000  \n",
       "12073   Two-Door Car          369.600000  "
      ]
     },
     "execution_count": 18,
     "metadata": {},
     "output_type": "execute_result"
    }
   ],
   "source": [
    "data.tail()"
   ]
  },
  {
   "cell_type": "markdown",
   "id": "c27edeff",
   "metadata": {},
   "source": [
    "**Categorical and numerical headers, and their meanings**\n",
    "\n",
    "Columns that are categorical:\n",
    "* Customer: personal identification for the customer\n",
    "* State: the state of the customer\n",
    "* Gender: the gender of the customer\n",
    "* Education: the education level of the customer\n",
    "* Policy Type: the type of policy the customer contracted\n",
    "* Vehicle Class: the type of vehicle the customer has\n",
    "\n",
    "Columns that are numerical:\n",
    "* Customer Lifetime Value (readed as string): The total money the company has obtained from the customer\n",
    "* Income: the anual income of the customer\n",
    "* Monthly Premium Auto: The monthly price of the product for the customer\n",
    "* Number of Open Complaints (readed as string): The total number of complaints the customer has opened\n",
    "* Total Claim Amount: The total money the customer has claimed from the company"
   ]
  },
  {
   "cell_type": "code",
   "execution_count": 19,
   "id": "947d6266",
   "metadata": {
    "scrolled": true
   },
   "outputs": [
    {
     "data": {
      "text/html": [
       "<div>\n",
       "<style scoped>\n",
       "    .dataframe tbody tr th:only-of-type {\n",
       "        vertical-align: middle;\n",
       "    }\n",
       "\n",
       "    .dataframe tbody tr th {\n",
       "        vertical-align: top;\n",
       "    }\n",
       "\n",
       "    .dataframe thead th {\n",
       "        text-align: right;\n",
       "    }\n",
       "</style>\n",
       "<table border=\"1\" class=\"dataframe\">\n",
       "  <thead>\n",
       "    <tr style=\"text-align: right;\">\n",
       "      <th></th>\n",
       "      <th>Customer</th>\n",
       "      <th>State</th>\n",
       "      <th>Gender</th>\n",
       "      <th>Customer Lifetime Value</th>\n",
       "      <th>Income</th>\n",
       "      <th>Monthly Premium Auto</th>\n",
       "      <th>Policy Type</th>\n",
       "      <th>Vehicle Class</th>\n",
       "      <th>Total Claim Amount</th>\n",
       "    </tr>\n",
       "  </thead>\n",
       "  <tbody>\n",
       "    <tr>\n",
       "      <th>0</th>\n",
       "      <td>RB50392</td>\n",
       "      <td>Washington</td>\n",
       "      <td>NaN</td>\n",
       "      <td>NaN</td>\n",
       "      <td>0.0</td>\n",
       "      <td>1000.0</td>\n",
       "      <td>Personal Auto</td>\n",
       "      <td>Four-Door Car</td>\n",
       "      <td>2.704934</td>\n",
       "    </tr>\n",
       "    <tr>\n",
       "      <th>1</th>\n",
       "      <td>QZ44356</td>\n",
       "      <td>Arizona</td>\n",
       "      <td>F</td>\n",
       "      <td>697953.59%</td>\n",
       "      <td>0.0</td>\n",
       "      <td>94.0</td>\n",
       "      <td>Personal Auto</td>\n",
       "      <td>Four-Door Car</td>\n",
       "      <td>1131.464935</td>\n",
       "    </tr>\n",
       "    <tr>\n",
       "      <th>2</th>\n",
       "      <td>AI49188</td>\n",
       "      <td>Nevada</td>\n",
       "      <td>F</td>\n",
       "      <td>1288743.17%</td>\n",
       "      <td>48767.0</td>\n",
       "      <td>108.0</td>\n",
       "      <td>Personal Auto</td>\n",
       "      <td>Two-Door Car</td>\n",
       "      <td>566.472247</td>\n",
       "    </tr>\n",
       "    <tr>\n",
       "      <th>3</th>\n",
       "      <td>WW63253</td>\n",
       "      <td>California</td>\n",
       "      <td>M</td>\n",
       "      <td>764586.18%</td>\n",
       "      <td>0.0</td>\n",
       "      <td>106.0</td>\n",
       "      <td>Corporate Auto</td>\n",
       "      <td>SUV</td>\n",
       "      <td>529.881344</td>\n",
       "    </tr>\n",
       "    <tr>\n",
       "      <th>4</th>\n",
       "      <td>GA49547</td>\n",
       "      <td>Washington</td>\n",
       "      <td>M</td>\n",
       "      <td>536307.65%</td>\n",
       "      <td>36357.0</td>\n",
       "      <td>68.0</td>\n",
       "      <td>Personal Auto</td>\n",
       "      <td>Four-Door Car</td>\n",
       "      <td>17.269323</td>\n",
       "    </tr>\n",
       "  </tbody>\n",
       "</table>\n",
       "</div>"
      ],
      "text/plain": [
       "  Customer       State Gender Customer Lifetime Value   Income  \\\n",
       "0  RB50392  Washington    NaN                     NaN      0.0   \n",
       "1  QZ44356     Arizona      F              697953.59%      0.0   \n",
       "2  AI49188      Nevada      F             1288743.17%  48767.0   \n",
       "3  WW63253  California      M              764586.18%      0.0   \n",
       "4  GA49547  Washington      M              536307.65%  36357.0   \n",
       "\n",
       "   Monthly Premium Auto     Policy Type  Vehicle Class  Total Claim Amount  \n",
       "0                1000.0   Personal Auto  Four-Door Car            2.704934  \n",
       "1                  94.0   Personal Auto  Four-Door Car         1131.464935  \n",
       "2                 108.0   Personal Auto   Two-Door Car          566.472247  \n",
       "3                 106.0  Corporate Auto            SUV          529.881344  \n",
       "4                  68.0   Personal Auto  Four-Door Car           17.269323  "
      ]
     },
     "execution_count": 19,
     "metadata": {},
     "output_type": "execute_result"
    }
   ],
   "source": [
    "datanew=data.drop(['Education', 'Number of Open Complaints'], axis=1)\n",
    "datanew.head()"
   ]
  },
  {
   "cell_type": "code",
   "execution_count": 20,
   "id": "5e76d789",
   "metadata": {},
   "outputs": [],
   "source": [
    "datanew['Customer Lifetime Value'] = datanew['Customer Lifetime Value'].astype(str)\n",
    "datanew['Customer Lifetime Value'] = datanew['Customer Lifetime Value'].str.rstrip('%').astype('float')"
   ]
  },
  {
   "cell_type": "code",
   "execution_count": 21,
   "id": "15769754",
   "metadata": {},
   "outputs": [
    {
     "data": {
      "text/plain": [
       "0                 NaN\n",
       "1        6.979536e+05\n",
       "2        1.288743e+06\n",
       "3        7.645862e+05\n",
       "4        5.363077e+05\n",
       "             ...     \n",
       "12069    2.340599e+04\n",
       "12070    3.096511e+03\n",
       "12071    8.163890e+03\n",
       "12072    7.524442e+03\n",
       "12073    2.611837e+03\n",
       "Name: Customer Lifetime Value, Length: 12074, dtype: float64"
      ]
     },
     "execution_count": 21,
     "metadata": {},
     "output_type": "execute_result"
    }
   ],
   "source": [
    "datanew['Customer Lifetime Value']"
   ]
  },
  {
   "cell_type": "code",
   "execution_count": 22,
   "id": "2350d184",
   "metadata": {},
   "outputs": [],
   "source": [
    "data=datanew"
   ]
  },
  {
   "cell_type": "markdown",
   "id": "99f61d22",
   "metadata": {},
   "source": [
    "Now we take the percentuals and convert them into numbers"
   ]
  },
  {
   "cell_type": "code",
   "execution_count": 23,
   "id": "807db8e4",
   "metadata": {},
   "outputs": [],
   "source": [
    "data['Customer Lifetime Value'] = pd.to_numeric(data['Customer Lifetime Value'], errors = 'coerce')"
   ]
  },
  {
   "cell_type": "code",
   "execution_count": 24,
   "id": "af3a9659",
   "metadata": {},
   "outputs": [
    {
     "data": {
      "text/html": [
       "<div>\n",
       "<style scoped>\n",
       "    .dataframe tbody tr th:only-of-type {\n",
       "        vertical-align: middle;\n",
       "    }\n",
       "\n",
       "    .dataframe tbody tr th {\n",
       "        vertical-align: top;\n",
       "    }\n",
       "\n",
       "    .dataframe thead th {\n",
       "        text-align: right;\n",
       "    }\n",
       "</style>\n",
       "<table border=\"1\" class=\"dataframe\">\n",
       "  <thead>\n",
       "    <tr style=\"text-align: right;\">\n",
       "      <th></th>\n",
       "      <th>Customer</th>\n",
       "      <th>State</th>\n",
       "      <th>Gender</th>\n",
       "      <th>Customer Lifetime Value</th>\n",
       "      <th>Income</th>\n",
       "      <th>Monthly Premium Auto</th>\n",
       "      <th>Policy Type</th>\n",
       "      <th>Vehicle Class</th>\n",
       "      <th>Total Claim Amount</th>\n",
       "    </tr>\n",
       "  </thead>\n",
       "  <tbody>\n",
       "    <tr>\n",
       "      <th>12069</th>\n",
       "      <td>LA72316</td>\n",
       "      <td>California</td>\n",
       "      <td>M</td>\n",
       "      <td>23405.987980</td>\n",
       "      <td>71941.0</td>\n",
       "      <td>73.0</td>\n",
       "      <td>Personal Auto</td>\n",
       "      <td>Four-Door Car</td>\n",
       "      <td>198.234764</td>\n",
       "    </tr>\n",
       "    <tr>\n",
       "      <th>12070</th>\n",
       "      <td>PK87824</td>\n",
       "      <td>California</td>\n",
       "      <td>F</td>\n",
       "      <td>3096.511217</td>\n",
       "      <td>21604.0</td>\n",
       "      <td>79.0</td>\n",
       "      <td>Corporate Auto</td>\n",
       "      <td>Four-Door Car</td>\n",
       "      <td>379.200000</td>\n",
       "    </tr>\n",
       "    <tr>\n",
       "      <th>12071</th>\n",
       "      <td>TD14365</td>\n",
       "      <td>California</td>\n",
       "      <td>M</td>\n",
       "      <td>8163.890428</td>\n",
       "      <td>0.0</td>\n",
       "      <td>85.0</td>\n",
       "      <td>Corporate Auto</td>\n",
       "      <td>Four-Door Car</td>\n",
       "      <td>790.784983</td>\n",
       "    </tr>\n",
       "    <tr>\n",
       "      <th>12072</th>\n",
       "      <td>UP19263</td>\n",
       "      <td>California</td>\n",
       "      <td>M</td>\n",
       "      <td>7524.442436</td>\n",
       "      <td>21941.0</td>\n",
       "      <td>96.0</td>\n",
       "      <td>Personal Auto</td>\n",
       "      <td>Four-Door Car</td>\n",
       "      <td>691.200000</td>\n",
       "    </tr>\n",
       "    <tr>\n",
       "      <th>12073</th>\n",
       "      <td>Y167826</td>\n",
       "      <td>California</td>\n",
       "      <td>M</td>\n",
       "      <td>2611.836866</td>\n",
       "      <td>0.0</td>\n",
       "      <td>77.0</td>\n",
       "      <td>Corporate Auto</td>\n",
       "      <td>Two-Door Car</td>\n",
       "      <td>369.600000</td>\n",
       "    </tr>\n",
       "  </tbody>\n",
       "</table>\n",
       "</div>"
      ],
      "text/plain": [
       "      Customer       State Gender  Customer Lifetime Value   Income  \\\n",
       "12069  LA72316  California      M             23405.987980  71941.0   \n",
       "12070  PK87824  California      F              3096.511217  21604.0   \n",
       "12071  TD14365  California      M              8163.890428      0.0   \n",
       "12072  UP19263  California      M              7524.442436  21941.0   \n",
       "12073  Y167826  California      M              2611.836866      0.0   \n",
       "\n",
       "       Monthly Premium Auto     Policy Type  Vehicle Class  Total Claim Amount  \n",
       "12069                  73.0   Personal Auto  Four-Door Car          198.234764  \n",
       "12070                  79.0  Corporate Auto  Four-Door Car          379.200000  \n",
       "12071                  85.0  Corporate Auto  Four-Door Car          790.784983  \n",
       "12072                  96.0   Personal Auto  Four-Door Car          691.200000  \n",
       "12073                  77.0  Corporate Auto   Two-Door Car          369.600000  "
      ]
     },
     "execution_count": 24,
     "metadata": {},
     "output_type": "execute_result"
    }
   ],
   "source": [
    "data.tail()"
   ]
  },
  {
   "cell_type": "markdown",
   "id": "991b92b7",
   "metadata": {},
   "source": [
    "Notice that a huge chunk of data is missing"
   ]
  },
  {
   "cell_type": "code",
   "execution_count": 25,
   "id": "8f832b21",
   "metadata": {},
   "outputs": [],
   "source": [
    "data['Customer Lifetime Value'] = data['Customer Lifetime Value']*100"
   ]
  },
  {
   "cell_type": "code",
   "execution_count": 26,
   "id": "c80b0dd2",
   "metadata": {},
   "outputs": [
    {
     "data": {
      "text/html": [
       "<div>\n",
       "<style scoped>\n",
       "    .dataframe tbody tr th:only-of-type {\n",
       "        vertical-align: middle;\n",
       "    }\n",
       "\n",
       "    .dataframe tbody tr th {\n",
       "        vertical-align: top;\n",
       "    }\n",
       "\n",
       "    .dataframe thead th {\n",
       "        text-align: right;\n",
       "    }\n",
       "</style>\n",
       "<table border=\"1\" class=\"dataframe\">\n",
       "  <thead>\n",
       "    <tr style=\"text-align: right;\">\n",
       "      <th></th>\n",
       "      <th>Customer</th>\n",
       "      <th>State</th>\n",
       "      <th>Gender</th>\n",
       "      <th>Customer Lifetime Value</th>\n",
       "      <th>Income</th>\n",
       "      <th>Monthly Premium Auto</th>\n",
       "      <th>Policy Type</th>\n",
       "      <th>Vehicle Class</th>\n",
       "      <th>Total Claim Amount</th>\n",
       "    </tr>\n",
       "  </thead>\n",
       "  <tbody>\n",
       "    <tr>\n",
       "      <th>12069</th>\n",
       "      <td>LA72316</td>\n",
       "      <td>California</td>\n",
       "      <td>M</td>\n",
       "      <td>2.340599e+06</td>\n",
       "      <td>71941.0</td>\n",
       "      <td>73.0</td>\n",
       "      <td>Personal Auto</td>\n",
       "      <td>Four-Door Car</td>\n",
       "      <td>198.234764</td>\n",
       "    </tr>\n",
       "    <tr>\n",
       "      <th>12070</th>\n",
       "      <td>PK87824</td>\n",
       "      <td>California</td>\n",
       "      <td>F</td>\n",
       "      <td>3.096511e+05</td>\n",
       "      <td>21604.0</td>\n",
       "      <td>79.0</td>\n",
       "      <td>Corporate Auto</td>\n",
       "      <td>Four-Door Car</td>\n",
       "      <td>379.200000</td>\n",
       "    </tr>\n",
       "    <tr>\n",
       "      <th>12071</th>\n",
       "      <td>TD14365</td>\n",
       "      <td>California</td>\n",
       "      <td>M</td>\n",
       "      <td>8.163890e+05</td>\n",
       "      <td>0.0</td>\n",
       "      <td>85.0</td>\n",
       "      <td>Corporate Auto</td>\n",
       "      <td>Four-Door Car</td>\n",
       "      <td>790.784983</td>\n",
       "    </tr>\n",
       "    <tr>\n",
       "      <th>12072</th>\n",
       "      <td>UP19263</td>\n",
       "      <td>California</td>\n",
       "      <td>M</td>\n",
       "      <td>7.524442e+05</td>\n",
       "      <td>21941.0</td>\n",
       "      <td>96.0</td>\n",
       "      <td>Personal Auto</td>\n",
       "      <td>Four-Door Car</td>\n",
       "      <td>691.200000</td>\n",
       "    </tr>\n",
       "    <tr>\n",
       "      <th>12073</th>\n",
       "      <td>Y167826</td>\n",
       "      <td>California</td>\n",
       "      <td>M</td>\n",
       "      <td>2.611837e+05</td>\n",
       "      <td>0.0</td>\n",
       "      <td>77.0</td>\n",
       "      <td>Corporate Auto</td>\n",
       "      <td>Two-Door Car</td>\n",
       "      <td>369.600000</td>\n",
       "    </tr>\n",
       "  </tbody>\n",
       "</table>\n",
       "</div>"
      ],
      "text/plain": [
       "      Customer       State Gender  Customer Lifetime Value   Income  \\\n",
       "12069  LA72316  California      M             2.340599e+06  71941.0   \n",
       "12070  PK87824  California      F             3.096511e+05  21604.0   \n",
       "12071  TD14365  California      M             8.163890e+05      0.0   \n",
       "12072  UP19263  California      M             7.524442e+05  21941.0   \n",
       "12073  Y167826  California      M             2.611837e+05      0.0   \n",
       "\n",
       "       Monthly Premium Auto     Policy Type  Vehicle Class  Total Claim Amount  \n",
       "12069                  73.0   Personal Auto  Four-Door Car          198.234764  \n",
       "12070                  79.0  Corporate Auto  Four-Door Car          379.200000  \n",
       "12071                  85.0  Corporate Auto  Four-Door Car          790.784983  \n",
       "12072                  96.0   Personal Auto  Four-Door Car          691.200000  \n",
       "12073                  77.0  Corporate Auto   Two-Door Car          369.600000  "
      ]
     },
     "execution_count": 26,
     "metadata": {},
     "output_type": "execute_result"
    }
   ],
   "source": [
    "data.tail()"
   ]
  },
  {
   "cell_type": "markdown",
   "id": "0aed772f",
   "metadata": {},
   "source": [
    "Note that multiplied x 100, the numbers just become a lot bigger and are read as number x 10 power"
   ]
  },
  {
   "cell_type": "code",
   "execution_count": 27,
   "id": "e2d7e357",
   "metadata": {},
   "outputs": [
    {
     "name": "stdout",
     "output_type": "stream",
     "text": [
      "<class 'pandas.core.frame.DataFrame'>\n",
      "RangeIndex: 12074 entries, 0 to 12073\n",
      "Data columns (total 9 columns):\n",
      " #   Column                   Non-Null Count  Dtype  \n",
      "---  ------                   --------------  -----  \n",
      " 0   Customer                 9137 non-null   object \n",
      " 1   State                    9137 non-null   object \n",
      " 2   Gender                   9015 non-null   object \n",
      " 3   Customer Lifetime Value  9130 non-null   float64\n",
      " 4   Income                   9137 non-null   float64\n",
      " 5   Monthly Premium Auto     9137 non-null   float64\n",
      " 6   Policy Type              9137 non-null   object \n",
      " 7   Vehicle Class            9137 non-null   object \n",
      " 8   Total Claim Amount       9137 non-null   float64\n",
      "dtypes: float64(4), object(5)\n",
      "memory usage: 849.1+ KB\n"
     ]
    }
   ],
   "source": [
    "data.info()"
   ]
  },
  {
   "cell_type": "markdown",
   "id": "789a09a4",
   "metadata": {},
   "source": [
    "Customer Lifetime Value is now a float. Success!"
   ]
  },
  {
   "cell_type": "code",
   "execution_count": 28,
   "id": "0cb02953",
   "metadata": {},
   "outputs": [
    {
     "data": {
      "text/plain": [
       "(9057, 9)"
      ]
     },
     "execution_count": 28,
     "metadata": {},
     "output_type": "execute_result"
    }
   ],
   "source": [
    "data_dedupe = data.drop_duplicates()\n",
    "data_dedupe = data.drop_duplicates('Customer')\n",
    "data_dedupe.shape"
   ]
  },
  {
   "cell_type": "markdown",
   "id": "f71bae29",
   "metadata": {},
   "source": [
    "Notice that a large chunk of data was lost filtering duplicates. If we go through the files, we see in file 1 there is a large amount of data that is just commas at the end, so we got rid of it."
   ]
  },
  {
   "cell_type": "code",
   "execution_count": 29,
   "id": "e93117a2",
   "metadata": {},
   "outputs": [
    {
     "data": {
      "text/html": [
       "<div>\n",
       "<style scoped>\n",
       "    .dataframe tbody tr th:only-of-type {\n",
       "        vertical-align: middle;\n",
       "    }\n",
       "\n",
       "    .dataframe tbody tr th {\n",
       "        vertical-align: top;\n",
       "    }\n",
       "\n",
       "    .dataframe thead th {\n",
       "        text-align: right;\n",
       "    }\n",
       "</style>\n",
       "<table border=\"1\" class=\"dataframe\">\n",
       "  <thead>\n",
       "    <tr style=\"text-align: right;\">\n",
       "      <th></th>\n",
       "      <th>Customer</th>\n",
       "      <th>State</th>\n",
       "      <th>Gender</th>\n",
       "      <th>Customer Lifetime Value</th>\n",
       "      <th>Income</th>\n",
       "      <th>Monthly Premium Auto</th>\n",
       "      <th>Policy Type</th>\n",
       "      <th>Vehicle Class</th>\n",
       "      <th>Total Claim Amount</th>\n",
       "    </tr>\n",
       "  </thead>\n",
       "  <tbody>\n",
       "    <tr>\n",
       "      <th>0</th>\n",
       "      <td>RB50392</td>\n",
       "      <td>Washington</td>\n",
       "      <td>NaN</td>\n",
       "      <td>NaN</td>\n",
       "      <td>0.0</td>\n",
       "      <td>1000.0</td>\n",
       "      <td>Personal Auto</td>\n",
       "      <td>Four-Door Car</td>\n",
       "      <td>2.704934</td>\n",
       "    </tr>\n",
       "    <tr>\n",
       "      <th>1</th>\n",
       "      <td>QZ44356</td>\n",
       "      <td>Arizona</td>\n",
       "      <td>F</td>\n",
       "      <td>6.979536e+07</td>\n",
       "      <td>0.0</td>\n",
       "      <td>94.0</td>\n",
       "      <td>Personal Auto</td>\n",
       "      <td>Four-Door Car</td>\n",
       "      <td>1131.464935</td>\n",
       "    </tr>\n",
       "    <tr>\n",
       "      <th>3</th>\n",
       "      <td>WW63253</td>\n",
       "      <td>California</td>\n",
       "      <td>M</td>\n",
       "      <td>7.645862e+07</td>\n",
       "      <td>0.0</td>\n",
       "      <td>106.0</td>\n",
       "      <td>Corporate Auto</td>\n",
       "      <td>SUV</td>\n",
       "      <td>529.881344</td>\n",
       "    </tr>\n",
       "    <tr>\n",
       "      <th>7</th>\n",
       "      <td>CF85061</td>\n",
       "      <td>Arizona</td>\n",
       "      <td>M</td>\n",
       "      <td>7.216100e+07</td>\n",
       "      <td>0.0</td>\n",
       "      <td>101.0</td>\n",
       "      <td>Corporate Auto</td>\n",
       "      <td>Four-Door Car</td>\n",
       "      <td>363.029680</td>\n",
       "    </tr>\n",
       "    <tr>\n",
       "      <th>10</th>\n",
       "      <td>SX51350</td>\n",
       "      <td>California</td>\n",
       "      <td>M</td>\n",
       "      <td>4.738992e+07</td>\n",
       "      <td>0.0</td>\n",
       "      <td>67.0</td>\n",
       "      <td>Personal Auto</td>\n",
       "      <td>Four-Door Car</td>\n",
       "      <td>482.400000</td>\n",
       "    </tr>\n",
       "    <tr>\n",
       "      <th>...</th>\n",
       "      <td>...</td>\n",
       "      <td>...</td>\n",
       "      <td>...</td>\n",
       "      <td>...</td>\n",
       "      <td>...</td>\n",
       "      <td>...</td>\n",
       "      <td>...</td>\n",
       "      <td>...</td>\n",
       "      <td>...</td>\n",
       "    </tr>\n",
       "    <tr>\n",
       "      <th>12063</th>\n",
       "      <td>WZ45103</td>\n",
       "      <td>California</td>\n",
       "      <td>F</td>\n",
       "      <td>5.678050e+05</td>\n",
       "      <td>0.0</td>\n",
       "      <td>76.0</td>\n",
       "      <td>Personal Auto</td>\n",
       "      <td>Four-Door Car</td>\n",
       "      <td>364.800000</td>\n",
       "    </tr>\n",
       "    <tr>\n",
       "      <th>12065</th>\n",
       "      <td>RX91025</td>\n",
       "      <td>California</td>\n",
       "      <td>M</td>\n",
       "      <td>1.987226e+06</td>\n",
       "      <td>0.0</td>\n",
       "      <td>185.0</td>\n",
       "      <td>Personal Auto</td>\n",
       "      <td>SUV</td>\n",
       "      <td>1950.725547</td>\n",
       "    </tr>\n",
       "    <tr>\n",
       "      <th>12066</th>\n",
       "      <td>AC13887</td>\n",
       "      <td>California</td>\n",
       "      <td>M</td>\n",
       "      <td>4.628995e+05</td>\n",
       "      <td>0.0</td>\n",
       "      <td>67.0</td>\n",
       "      <td>Corporate Auto</td>\n",
       "      <td>Two-Door Car</td>\n",
       "      <td>482.400000</td>\n",
       "    </tr>\n",
       "    <tr>\n",
       "      <th>12071</th>\n",
       "      <td>TD14365</td>\n",
       "      <td>California</td>\n",
       "      <td>M</td>\n",
       "      <td>8.163890e+05</td>\n",
       "      <td>0.0</td>\n",
       "      <td>85.0</td>\n",
       "      <td>Corporate Auto</td>\n",
       "      <td>Four-Door Car</td>\n",
       "      <td>790.784983</td>\n",
       "    </tr>\n",
       "    <tr>\n",
       "      <th>12073</th>\n",
       "      <td>Y167826</td>\n",
       "      <td>California</td>\n",
       "      <td>M</td>\n",
       "      <td>2.611837e+05</td>\n",
       "      <td>0.0</td>\n",
       "      <td>77.0</td>\n",
       "      <td>Corporate Auto</td>\n",
       "      <td>Two-Door Car</td>\n",
       "      <td>369.600000</td>\n",
       "    </tr>\n",
       "  </tbody>\n",
       "</table>\n",
       "<p>2294 rows × 9 columns</p>\n",
       "</div>"
      ],
      "text/plain": [
       "      Customer       State Gender  Customer Lifetime Value  Income  \\\n",
       "0      RB50392  Washington    NaN                      NaN     0.0   \n",
       "1      QZ44356     Arizona      F             6.979536e+07     0.0   \n",
       "3      WW63253  California      M             7.645862e+07     0.0   \n",
       "7      CF85061     Arizona      M             7.216100e+07     0.0   \n",
       "10     SX51350  California      M             4.738992e+07     0.0   \n",
       "...        ...         ...    ...                      ...     ...   \n",
       "12063  WZ45103  California      F             5.678050e+05     0.0   \n",
       "12065  RX91025  California      M             1.987226e+06     0.0   \n",
       "12066  AC13887  California      M             4.628995e+05     0.0   \n",
       "12071  TD14365  California      M             8.163890e+05     0.0   \n",
       "12073  Y167826  California      M             2.611837e+05     0.0   \n",
       "\n",
       "       Monthly Premium Auto     Policy Type  Vehicle Class  Total Claim Amount  \n",
       "0                    1000.0   Personal Auto  Four-Door Car            2.704934  \n",
       "1                      94.0   Personal Auto  Four-Door Car         1131.464935  \n",
       "3                     106.0  Corporate Auto            SUV          529.881344  \n",
       "7                     101.0  Corporate Auto  Four-Door Car          363.029680  \n",
       "10                     67.0   Personal Auto  Four-Door Car          482.400000  \n",
       "...                     ...             ...            ...                 ...  \n",
       "12063                  76.0   Personal Auto  Four-Door Car          364.800000  \n",
       "12065                 185.0   Personal Auto            SUV         1950.725547  \n",
       "12066                  67.0  Corporate Auto   Two-Door Car          482.400000  \n",
       "12071                  85.0  Corporate Auto  Four-Door Car          790.784983  \n",
       "12073                  77.0  Corporate Auto   Two-Door Car          369.600000  \n",
       "\n",
       "[2294 rows x 9 columns]"
      ]
     },
     "execution_count": 29,
     "metadata": {},
     "output_type": "execute_result"
    }
   ],
   "source": [
    "data[(data['Income']<=0)]"
   ]
  },
  {
   "cell_type": "markdown",
   "id": "2b200f9a",
   "metadata": {},
   "source": [
    "Income filtered. Exercise compleated :)\n",
    "\n",
    "Some values of the Customer Lifetime Value became errors at some point though."
   ]
  }
 ],
 "metadata": {
  "kernelspec": {
   "display_name": "Python 3 (ipykernel)",
   "language": "python",
   "name": "python3"
  },
  "language_info": {
   "codemirror_mode": {
    "name": "ipython",
    "version": 3
   },
   "file_extension": ".py",
   "mimetype": "text/x-python",
   "name": "python",
   "nbconvert_exporter": "python",
   "pygments_lexer": "ipython3",
   "version": "3.9.7"
  },
  "toc": {
   "base_numbering": 1,
   "nav_menu": {},
   "number_sections": true,
   "sideBar": true,
   "skip_h1_title": false,
   "title_cell": "Table of Contents",
   "title_sidebar": "Contents",
   "toc_cell": false,
   "toc_position": {},
   "toc_section_display": true,
   "toc_window_display": false
  }
 },
 "nbformat": 4,
 "nbformat_minor": 5
}
